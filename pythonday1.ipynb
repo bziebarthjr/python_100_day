{
 "cells": [
  {
   "cell_type": "markdown",
   "id": "9c5d847b-c3f1-43e9-b9fc-318b7ab90504",
   "metadata": {},
   "source": [
    "# 100 Days of Python Day 1 Introduction\n",
    "\n",
    "The 100 Days of Python Programming Exercises start off at the basic level. So, I decided to use a Jupyter notebook for the basic levels. I will use VS Code for the Python files as the projects advance and move out of Jupyter notebook. This notebook currently contains the code for day 1.\n",
    "\n",
    "My plan is to add days onto this page. I will upload them to github at the end of each days lessons. The ultimate goal of being to have the first seven days in this notebook. "
   ]
  },
  {
   "cell_type": "code",
   "execution_count": 1,
   "id": "af0af9f5-ea57-4929-8065-932998e7d30b",
   "metadata": {},
   "outputs": [
    {
     "name": "stdin",
     "output_type": "stream",
     "text": [
      "What is your first name? Bruce\n"
     ]
    },
    {
     "name": "stdout",
     "output_type": "stream",
     "text": [
      "Hello Bruce!\n"
     ]
    }
   ],
   "source": [
    "# First Assignment is to use input to get the name of the user\n",
    "# and say hello to them\n",
    "\n",
    "firstName = input(\"What is your first name?\")\n",
    "print(\"Hello {}!\".format(firstName))"
   ]
  },
  {
   "cell_type": "code",
   "execution_count": null,
   "id": "ad5e82f9-c4aa-4fcf-be8d-00fa1afbe2be",
   "metadata": {},
   "outputs": [],
   "source": [
    "# "
   ]
  },
  {
   "cell_type": "code",
   "execution_count": null,
   "id": "11060936-7b99-4336-b64e-ce16e827c99e",
   "metadata": {},
   "outputs": [],
   "source": []
  },
  {
   "cell_type": "code",
   "execution_count": null,
   "id": "784dd75e-143a-407c-982e-0edb290bf8bb",
   "metadata": {},
   "outputs": [],
   "source": []
  }
 ],
 "metadata": {
  "kernelspec": {
   "display_name": "Python 3 (ipykernel)",
   "language": "python",
   "name": "python3"
  },
  "language_info": {
   "codemirror_mode": {
    "name": "ipython",
    "version": 3
   },
   "file_extension": ".py",
   "mimetype": "text/x-python",
   "name": "python",
   "nbconvert_exporter": "python",
   "pygments_lexer": "ipython3",
   "version": "3.12.3"
  }
 },
 "nbformat": 4,
 "nbformat_minor": 5
}
