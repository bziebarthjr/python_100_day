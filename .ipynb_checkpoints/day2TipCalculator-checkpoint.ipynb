{
 "cells": [
  {
   "cell_type": "markdown",
   "id": "55ff3a17-4211-4331-83f5-8dffc1e06b05",
   "metadata": {},
   "source": [
    "---\n",
    "\n",
    "# Day Two\n",
    "\n",
    "## Introduction\n",
    "\n",
    "The focus of day two is to review data types, operations, type conversion, and f-strings. \n",
    "\n",
    "## Outcome\n",
    "\n",
    "The outcome is to build a <strong>text-based tip calculator</strong>.\n",
    "\n",
    "---\n",
    "\n",
    "Beginning code."
   ]
  },
  {
   "cell_type": "code",
   "execution_count": 1,
   "id": "faa0315f-7d14-417b-bf96-34cfbbbef1e2",
   "metadata": {},
   "outputs": [
    {
     "name": "stdout",
     "output_type": "stream",
     "text": [
      "H\n",
      "123345\n",
      "468\n",
      "123456789\n",
      "3.14159\n",
      "True\n",
      "False\n"
     ]
    }
   ],
   "source": [
    "# Subscripting\n",
    "print(\"Hello\"[0])\n",
    "\n",
    "# String\n",
    "print(\"123\" + \"345\")\n",
    "\n",
    "# Integer = Whole Number\n",
    "print(123 + 345)\n",
    "\n",
    "# Large Integers\n",
    "print(123456789)\n",
    "\n",
    "# Float = Floating point number\n",
    "print(3.14159)\n",
    "\n",
    "# Boolean\n",
    "print(True)\n",
    "print(False)"
   ]
  },
  {
   "cell_type": "markdown",
   "id": "8a39024b-c746-4a5b-8da7-7b4f0f1ce70c",
   "metadata": {},
   "source": [
    "---\n",
    "\n",
    "## Data Types\n",
    "### Practice\n",
    "\n",
    "Write out 4 type checks to print all 4 data types\n",
    "\n",
    "Using the type() and print() functions to print out 4 lines into the output area so we get the full collection of data types that we learnt about. <class 'str'> <class 'int'> <class 'float'> and <class 'bool'>\n",
    "\n",
    "---"
   ]
  },
  {
   "cell_type": "code",
   "execution_count": 2,
   "id": "056bd425-e2c7-4491-ac53-9fafc2057413",
   "metadata": {},
   "outputs": [
    {
     "name": "stdout",
     "output_type": "stream",
     "text": [
      "<class 'str'>\n",
      "<class 'int'>\n",
      "<class 'float'>\n",
      "<class 'bool'>\n"
     ]
    }
   ],
   "source": [
    "print(type(\"Hello\"))\n",
    "print(type(3))\n",
    "print(type(3.14))\n",
    "print(type(True))"
   ]
  },
  {
   "cell_type": "markdown",
   "id": "cea0ac88-7165-4f1d-8ff4-4678c0c3600e",
   "metadata": {},
   "source": [
    "---\n",
    "\n",
    "### Practice\n",
    "\n",
    "Make this line of code run without errors\n",
    "print(\"Number of letters in your name: \" + len(input(\"Enter your name\")))\n",
    "\n",
    "---"
   ]
  },
  {
   "cell_type": "code",
   "execution_count": 3,
   "id": "4af92ee9-55cc-41aa-a1b0-b46a3c4ea94a",
   "metadata": {},
   "outputs": [
    {
     "name": "stdin",
     "output_type": "stream",
     "text": [
      "Enter your name Bruce\n"
     ]
    },
    {
     "name": "stdout",
     "output_type": "stream",
     "text": [
      "Number of letters in your name: 5\n"
     ]
    }
   ],
   "source": [
    "# Fixing challenge code by add \"str\" to the \"len\" function\n",
    "print(\"Number of letters in your name: \" + str(len(input(\"Enter your name\"))))"
   ]
  },
  {
   "cell_type": "markdown",
   "id": "ccde2116-ab93-46ff-89dd-a8692bce4a77",
   "metadata": {},
   "source": [
    "---\n",
    "\n",
    "## Mathematical Operations\n",
    "### Practice\n",
    "<p>Change the code so it outputs 3?</p>\n",
    "print(3 * 3 + 3 / 3 - 3)\n",
    "\n",
    "---"
   ]
  },
  {
   "cell_type": "code",
   "execution_count": 4,
   "id": "73356a4c-f61f-4553-8dc7-b62ba162ca69",
   "metadata": {},
   "outputs": [
    {
     "name": "stdout",
     "output_type": "stream",
     "text": [
      "3.0\n"
     ]
    }
   ],
   "source": [
    "print(3 * (3 + 3) / 3 - 3)"
   ]
  },
  {
   "cell_type": "markdown",
   "id": "7042542a-1a09-4fc5-bc91-36fe596b0251",
   "metadata": {},
   "source": [
    "---\n",
    "\n",
    "### Practice\n",
    "\n",
    "Calculate a BMI using these numbers:\n",
    "<ul>\n",
    "<li>height = 1.65</li> \n",
    "<li>weight = 84</li>\n",
    "</ul>\n",
    "\n",
    "---"
   ]
  },
  {
   "cell_type": "code",
   "execution_count": 5,
   "id": "8d9d8263-e0ae-4b88-9592-6fb53b0a1c81",
   "metadata": {},
   "outputs": [
    {
     "name": "stdout",
     "output_type": "stream",
     "text": [
      "30.85\n"
     ]
    }
   ],
   "source": [
    "height = 1.65 \n",
    "weight = 84\n",
    "\n",
    "# Calculate the BMI and round it off to two digits\n",
    "# after the decimal\n",
    "bmi = round(weight / height**2, 2)\n",
    "\n",
    "print(bmi)"
   ]
  },
  {
   "cell_type": "markdown",
   "id": "fafb8bfe-93cc-4cd5-8d9c-cafc63336254",
   "metadata": {},
   "source": [
    "---\n",
    "\n",
    "## Today's Project - Create a Tip Calculator\n",
    "\n",
    "<p>We're going to build a tip calculator. If the bill was $150.00, split between 5 people, with 12% tip. Each person should pay</p>\n",
    "\n",
    ">(150.00 / 5) * 1.12 = 33.6\n",
    "\n",
    "<p>After formatting the result to 2 decimal places = 33.60</p>\n",
    "\n",
    "Demo\n",
    "<a href=\"https://appbrewery.github.io/python-day2-demo/\">https://appbrewery.github.io/python-day2-demo/</a>\n",
    "\n",
    "Very Optional Reading: Floating Point Arithmetic\n",
    "<a href=\"https://docs.python.org/3/tutorial/floatingpoint.html\">https://docs.python.org/3/tutorial/floatingpoint.html</a>\n",
    "\n",
    "---"
   ]
  },
  {
   "cell_type": "code",
   "execution_count": 6,
   "id": "994a8388-957f-4daf-95a0-e8510f404408",
   "metadata": {},
   "outputs": [
    {
     "name": "stdin",
     "output_type": "stream",
     "text": [
      "What was the total bill? 124.56\n",
      "What percentage tip would you like to give? 10, 12, or 15? 12\n",
      "How many people to split the bill? 7\n"
     ]
    },
    {
     "name": "stdout",
     "output_type": "stream",
     "text": [
      "Each person should pay: $19.93\n"
     ]
    }
   ],
   "source": [
    "# My Code for the Tip Calculator\n",
    "# Setup variables and inputs\n",
    "bill = float(input(\"What was the total bill?\"))\n",
    "tip = float(input(\"What percentage tip would you like to give? 10, 12, or 15?\"))/100\n",
    "numberPeople = int(input(\"How many people to split the bill?\"))\n",
    "perPerson = round((bill*(1+tip))/numberPeople, 2)\n",
    "\n",
    "# Calculate How much each person should pay\n",
    "print(f\"Each person should pay: ${perPerson}\") "
   ]
  }
 ],
 "metadata": {
  "kernelspec": {
   "display_name": "Python 3 (ipykernel)",
   "language": "python",
   "name": "python3"
  },
  "language_info": {
   "codemirror_mode": {
    "name": "ipython",
    "version": 3
   },
   "file_extension": ".py",
   "mimetype": "text/x-python",
   "name": "python",
   "nbconvert_exporter": "python",
   "pygments_lexer": "ipython3",
   "version": "3.12.3"
  }
 },
 "nbformat": 4,
 "nbformat_minor": 5
}
