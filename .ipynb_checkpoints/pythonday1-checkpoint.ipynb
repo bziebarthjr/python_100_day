{
 "cells": [
  {
   "cell_type": "markdown",
   "id": "9c5d847b-c3f1-43e9-b9fc-318b7ab90504",
   "metadata": {},
   "source": [
    "# 100 Days of Python Day 1 Introduction\n",
    "\n",
    "The 100 Days of Python Programming Exercises start off at the basic level. So, I decided to use a Jupyter notebook for the basic levels. I will use VS Code for the Python files as the projects advance and move out of Jupyter notebook. This notebook currently contains the code for day 1.\n",
    "\n",
    "My plan is to add days onto this page. I will upload them to github at the end of each days lessons. The ultimate goal of being to have the first seven days in this notebook. \n",
    "\n",
    "---\n",
    "\n",
    "# Day One"
   ]
  },
  {
   "cell_type": "code",
   "execution_count": 1,
   "id": "af0af9f5-ea57-4929-8065-932998e7d30b",
   "metadata": {},
   "outputs": [
    {
     "name": "stdin",
     "output_type": "stream",
     "text": [
      "What is your first name? Bruce\n"
     ]
    },
    {
     "name": "stdout",
     "output_type": "stream",
     "text": [
      "Hello Bruce!\n"
     ]
    }
   ],
   "source": [
    "# First Assignment is to use input to get the name of the user\n",
    "# and say hello to them\n",
    "\n",
    "firstName = input(\"What is your first name?\")\n",
    "print(\"Hello {}!\".format(firstName))"
   ]
  },
  {
   "cell_type": "code",
   "execution_count": 2,
   "id": "ad5e82f9-c4aa-4fcf-be8d-00fa1afbe2be",
   "metadata": {},
   "outputs": [
    {
     "name": "stdin",
     "output_type": "stream",
     "text": [
      "What is your name? Bruce\n"
     ]
    },
    {
     "name": "stdout",
     "output_type": "stream",
     "text": [
      "5\n"
     ]
    }
   ],
   "source": [
    "# Take the name as user input and print the number of \n",
    "# characters in the name\n",
    "print(len(input(\"What is your name?\")))"
   ]
  },
  {
   "cell_type": "code",
   "execution_count": 3,
   "id": "11060936-7b99-4336-b64e-ce16e827c99e",
   "metadata": {},
   "outputs": [
    {
     "name": "stdin",
     "output_type": "stream",
     "text": [
      "What is your name? Bruce\n"
     ]
    },
    {
     "name": "stdout",
     "output_type": "stream",
     "text": [
      "5\n"
     ]
    }
   ],
   "source": [
    "# Separate our previous statement\n",
    "# Create a variable username that holds the name\n",
    "# create a variabel length that holds the length\n",
    "# print out the length of the name\n",
    "username = input(\"What is your name?\")\n",
    "length = len(username)\n",
    "print(length)"
   ]
  },
  {
   "cell_type": "markdown",
   "id": "9fd72963-9094-4634-924d-4e973a21992f",
   "metadata": {},
   "source": [
    "---\n",
    "\n",
    "## Coding Exercise\n",
    "\n",
    "You are given 2 variables; glass1 and glass2. Glass1 contains the word \"milk\". Glass2 contains the word \"juice\". Switch the contents of the two variables. There are a few rules:\n",
    "<ol>\n",
    "    <li>Use only 3 lines of code</li>\n",
    "    <li>Do not type the words \"milk\" or \"juice\"</li>\n",
    "</ol>\n",
    "\n",
    "---"
   ]
  },
  {
   "cell_type": "code",
   "execution_count": 5,
   "id": "a3105bd2-e117-4729-b35d-964eb3afc165",
   "metadata": {},
   "outputs": [
    {
     "name": "stdout",
     "output_type": "stream",
     "text": [
      "Starting glass1: milk\n",
      "Starting glass2: juice\n",
      "\n",
      "Ending glass1: juice\n",
      "Ending glass2: milk\n"
     ]
    }
   ],
   "source": [
    "# given variables\n",
    "glass1 = \"milk\"\n",
    "glass2 = \"juice\"\n",
    "\n",
    "# print contents of starting variables\n",
    "print(\"Starting glass1: {}\".format(glass1))\n",
    "print(\"Starting glass2: {}\\n\".format(glass2))\n",
    "\n",
    "# Create holding variable and move contents of glass1 into it\n",
    "vHolding = glass1\n",
    "\n",
    "# move contents of glass2 into glass1 \n",
    "glass1 = glass2\n",
    "\n",
    "# move contents of holding variable into glass2\n",
    "glass2 = vHolding\n",
    "\n",
    "# Ending contents\n",
    "print(\"Ending glass1: {}\".format(glass1))\n",
    "print(\"Ending glass2: {}\".format(glass2))"
   ]
  },
  {
   "cell_type": "markdown",
   "id": "9d5cd66d-3459-4ca8-8d8a-a7262cb59d04",
   "metadata": {},
   "source": [
    "---\r\n",
    "\r\n",
    "## Final Day One Coding Exercise\r\n",
    "\r\n",
    "This coding exercise reqiures creating a band name generator. The generator takes in the name of the city the user grew up and the name of their first pet. It then puts these two inputs together in one string. It then prints this string as the suggested band name. The rules for this exercise are:\r\n",
    "<ol>\r\n",
    "<li>Create a greeting for your program.</li>\r\n",
    "<li>Ask the user for the city that they grew up in and store it in a variable.</li>\r\n",
    "<li>Ask the user for the name of a pet and store it in a variable.</li>\r\n",
    "<li>Combine the name of their city and pet and show them their band name.</li>\r\n",
    "</ol>\r\n",
    "\r\n",
    "\r\n",
    "\r\n",
    "------"
   ]
  },
  {
   "cell_type": "code",
   "execution_count": 7,
   "id": "b2b9e5fa-5502-4c3c-9b85-379b4ed8844f",
   "metadata": {},
   "outputs": [
    {
     "name": "stdout",
     "output_type": "stream",
     "text": [
      "Welcome to the Band Name Generator.\n"
     ]
    },
    {
     "name": "stdin",
     "output_type": "stream",
     "text": [
      "What city did you grow up in?\n",
      " Dayton\n",
      "What was the name of a childhood pet?\n",
      " Rover\n"
     ]
    },
    {
     "name": "stdout",
     "output_type": "stream",
     "text": [
      "Your suggested band name is Dayton Rover!\n"
     ]
    }
   ],
   "source": [
    "# Create a greeting for your program\n",
    "print(\"Welcome to the Band Name Generator.\")\n",
    "# Ask the user for the city that they grew up in and store it in a variable.\n",
    "cityRaised = input(\"What city did you grow up in?\\n\")\n",
    "# Ask the user for the name of a pet and store it in a variable.\n",
    "petName = input(\"What was the name of a childhood pet?\\n\")\n",
    "# Combine the name of their city and pet and show them their band name.\n",
    "print(\"Your suggested band name is {} {}!\".format(cityRaised, petName))"
   ]
  },
  {
   "cell_type": "markdown",
   "id": "e734a54c-5d99-4cae-8a7d-a737cde12e70",
   "metadata": {},
   "source": [
    "---\n",
    "\n",
    "# Day Two\n",
    "\n",
    "## Introduction\n",
    "\n",
    "The focus of day two is to review data types, operations, type conversion, and f-strings. \n",
    "\n",
    "## Outcome\n",
    "\n",
    "The outcome is to build a text-based type calculator.\n",
    "\n",
    "---"
   ]
  },
  {
   "cell_type": "code",
   "execution_count": null,
   "id": "95c01c60-17b5-4ee3-b18b-db456d796b5d",
   "metadata": {},
   "outputs": [],
   "source": []
  },
  {
   "cell_type": "code",
   "execution_count": null,
   "id": "6d9dcc54-36d9-4c01-9c78-59e8d70c89c6",
   "metadata": {},
   "outputs": [],
   "source": []
  },
  {
   "cell_type": "code",
   "execution_count": null,
   "id": "1a694ab6-d70e-420d-b67e-5003db6d79e1",
   "metadata": {},
   "outputs": [],
   "source": []
  },
  {
   "cell_type": "code",
   "execution_count": null,
   "id": "b01a4597-8e78-4c46-b1f7-f487db0b1e59",
   "metadata": {},
   "outputs": [],
   "source": []
  },
  {
   "cell_type": "code",
   "execution_count": null,
   "id": "0b94929c-241a-4658-b1ca-26da5954c4fd",
   "metadata": {},
   "outputs": [],
   "source": []
  }
 ],
 "metadata": {
  "kernelspec": {
   "display_name": "Python 3 (ipykernel)",
   "language": "python",
   "name": "python3"
  },
  "language_info": {
   "codemirror_mode": {
    "name": "ipython",
    "version": 3
   },
   "file_extension": ".py",
   "mimetype": "text/x-python",
   "name": "python",
   "nbconvert_exporter": "python",
   "pygments_lexer": "ipython3",
   "version": "3.12.3"
  }
 },
 "nbformat": 4,
 "nbformat_minor": 5
}
